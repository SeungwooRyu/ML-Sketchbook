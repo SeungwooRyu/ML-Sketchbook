{
 "cells": [
  {
   "cell_type": "code",
   "execution_count": 1,
   "metadata": {},
   "outputs": [],
   "source": [
    "import numpy as np"
   ]
  },
  {
   "cell_type": "code",
   "execution_count": 2,
   "metadata": {},
   "outputs": [],
   "source": [
    "n1 = np.array([1, 1, 0]); n1 = np.insert(n1, 2, 1)\n",
    "n2 = np.array([1, 0, 1]); n2 = np.insert(n2, 2, 1)\n",
    "n3 = np.array([0, 1, 1]); n3 = np.insert(n3, 2, 1)\n",
    "n4 = np.array([0, 0, 0]); n4 = np.insert(n4, 2, 1)"
   ]
  },
  {
   "cell_type": "code",
   "execution_count": 3,
   "metadata": {},
   "outputs": [
    {
     "name": "stdout",
     "output_type": "stream",
     "text": [
      "index 순서대로 x_n1, x_n2, 1, t_n1\n",
      "n1 array: [1 1 1 0]\n",
      "n2 array: [1 0 1 1]\n",
      "n3 array: [0 1 1 1]\n",
      "n4 array: [0 0 1 0]\n"
     ]
    }
   ],
   "source": [
    "# 열 index 순서대로: x_n1, x_n2, 1, t_n1\n",
    "\n",
    "print('index 순서대로 %s, %s, %d, %s' %('x_n1', 'x_n2', 1, 't_n1'))\n",
    "print('n1 array: %s' %(n1))\n",
    "print('n2 array: %s' %(n2))\n",
    "print('n3 array: %s' %(n3))\n",
    "print('n4 array: %s' %(n4))"
   ]
  },
  {
   "cell_type": "code",
   "execution_count": 4,
   "metadata": {},
   "outputs": [
    {
     "name": "stdout",
     "output_type": "stream",
     "text": [
      "w1: [0.65489424 0.53791424]\n",
      "w2: [0.01087508 0.59621583]\n",
      "w3: [0.46418038 0.19013345]\n",
      "\n",
      "ws: [[0.65489424 0.53791424]\n",
      " [0.01087508 0.59621583]\n",
      " [0.46418038 0.19013345]]\n",
      "v: [0.87813977 0.70585527 0.10378435]\n"
     ]
    }
   ],
   "source": [
    "w1 = np.random.uniform(size=2); print('w1: %s' %w1)\n",
    "w2 = np.random.uniform(size=2); print('w2: %s' %w2)\n",
    "w3 = np.random.uniform(size=2); print('w3: %s' %w3); print()\n",
    "\n",
    "ws = np.c_[w1, w2, w3].T; print('ws: %s' %ws)\n",
    "\n",
    "v = np.random.uniform(size=3); print('v: %s' %v)"
   ]
  },
  {
   "cell_type": "code",
   "execution_count": 5,
   "metadata": {},
   "outputs": [],
   "source": [
    "def sigmoid(x):\n",
    "    \n",
    "    return 1 / (1 + np.exp(-x))"
   ]
  },
  {
   "cell_type": "code",
   "execution_count": 6,
   "metadata": {},
   "outputs": [
    {
     "name": "stdout",
     "output_type": "stream",
     "text": [
      "The number of iteration: 20000\n",
      "The result: [0.03151939815309249, 0.9701179008773557, 0.9700684149390101, 0.033761182296664846]\n"
     ]
    }
   ],
   "source": [
    "num_of_iter = 1\n",
    "eta = .1\n",
    "\n",
    "while num_of_iter <= 20000:        \n",
    "        \n",
    "        net1_n1_results = []\n",
    "        net1_n2_results = []\n",
    "        h1_results = []\n",
    "        h2_results = []\n",
    "        net2_results = []\n",
    "        o_results = []\n",
    "\n",
    "        for _, j in enumerate([n1, n2, n3, n4]):\n",
    "\n",
    "            net1_n1 = j[0] * ws[0,0] + j[1] * ws[1,0] + j[2] * ws[2,0]\n",
    "            net1_n2 = j[0] * ws[0,1] + j[1] * ws[1,1] + j[2] * ws[2,1]\n",
    "\n",
    "            h_n1 = sigmoid(net1_n1)\n",
    "            h_n2 = sigmoid(net1_n2)\n",
    "\n",
    "            h_all = [h_n1, h_n2, 1]\n",
    "\n",
    "            net2 = h_all[0] * v[0] + h_all[1] * v[1] + h_all[2] * v[2]\n",
    "\n",
    "            o = sigmoid(net2)\n",
    "\n",
    "            net1_n1_results.append(net1_n1)\n",
    "            net1_n2_results.append(net1_n2)\n",
    "            h1_results.append(h_n1)\n",
    "            h2_results.append(h_n2)\n",
    "            net2_results.append(net2)\n",
    "            o_results.append(o)\n",
    "\n",
    "\n",
    "            # print(net1_n1_results)  \n",
    "            # print(h1_results)\n",
    "            # print(net1_n2_results)\n",
    "            # print(h2_results)\n",
    "            # print(net2_results)\n",
    "            # print(o_results)\n",
    "            \n",
    "\n",
    "        v13_gradient_list = []\n",
    "        v23_gradient_list = []\n",
    "        v33_gradient_list = []\n",
    "\n",
    "        w11_gradient_list = []; w21_gradient_list = []\n",
    "        w12_gradient_list = []; w22_gradient_list = []\n",
    "        w13_gradient_list = []; w23_gradient_list = []\n",
    "\n",
    "\n",
    "        for i, j in enumerate([n1, n2, n3, n4]):\n",
    "\n",
    "            v_13 = -1 * (j[3] - o_results[i]) * o_results[i] * (1-o_results[i]) * h1_results[i]\n",
    "            v_23 = -1 * (j[3] - o_results[i]) * o_results[i] * (1-o_results[i]) * h2_results[i]\n",
    "            v_33 = -1 * (j[3] - o_results[i]) * o_results[i] * (1-o_results[i]) * 1\n",
    "\n",
    "            v13_gradient_list.append(v_13)\n",
    "            v23_gradient_list.append(v_23)\n",
    "            v33_gradient_list.append(v_33)\n",
    "\n",
    "            w_11 = -1 * j[0] * h1_results[i] * (1-h1_results[i]) * v[0] * (j[3] - o_results[i]) * o_results[i] * (1-o_results[i])\n",
    "            w_12 = -1 * j[1] * h1_results[i] * (1-h1_results[i]) * v[0] * (j[3] - o_results[i]) * o_results[i] * (1-o_results[i])\n",
    "            w_13 = -1 * j[2] * h1_results[i] * (1-h1_results[i]) * v[0] * (j[3] - o_results[i]) * o_results[i] * (1-o_results[i])\n",
    "\n",
    "            w_21 = -1 * j[0] * h2_results[i] * (1-h2_results[i]) * v[1] * (j[3] - o_results[i]) * o_results[i] * (1-o_results[i])\n",
    "            w_22 = -1 * j[1] * h2_results[i] * (1-h2_results[i]) * v[1] * (j[3] - o_results[i]) * o_results[i] * (1-o_results[i])\n",
    "            w_23 = -1 * j[2] * h2_results[i] * (1-h2_results[i]) * v[1] * (j[3] - o_results[i]) * o_results[i] * (1-o_results[i])\n",
    "\n",
    "            w11_gradient_list.append(w_11)\n",
    "            w12_gradient_list.append(w_12)\n",
    "            w13_gradient_list.append(w_13)\n",
    "\n",
    "            w21_gradient_list.append(w_21)\n",
    "            w22_gradient_list.append(w_22)\n",
    "            w23_gradient_list.append(w_23)\n",
    "\n",
    "\n",
    "\n",
    "        v13_gradient = sum(v13_gradient_list); # print(v13_gradient)\n",
    "        v23_gradient = sum(v23_gradient_list); # print(v23_gradient)\n",
    "        v33_gradient = sum(v33_gradient_list); # print(v33_gradient)\n",
    "\n",
    "        w11_gradient = sum(w11_gradient_list); # print(w11_gradient)\n",
    "        w12_gradient = sum(w12_gradient_list); # print(w12_gradient)\n",
    "        w13_gradient = sum(w13_gradient_list); # print(w13_gradient)\n",
    "\n",
    "        w21_gradient = sum(w21_gradient_list); # print(w21_gradient)\n",
    "        w22_gradient = sum(w22_gradient_list); # print(w22_gradient)\n",
    "        w23_gradient = sum(w23_gradient_list); # print(w23_gradient)\n",
    "\n",
    "        new_v = np.array([v[0] - eta * v13_gradient, v[1] - eta * v23_gradient, v[2] - eta * v33_gradient])\n",
    "        ws_col1 = np.array([ws[0,0] - eta * w11_gradient, ws[1,0] - eta * w12_gradient, ws[2,0] - eta * w13_gradient])\n",
    "        ws_col2 = np.array([ws[0,1] - eta * w21_gradient, ws[1,1] - eta * w22_gradient, ws[2,1] - eta * w23_gradient])\n",
    "\n",
    "\n",
    "        # update the values\n",
    "        v = new_v\n",
    "        ws = np.c_[ws_col1, ws_col2]\n",
    "        \n",
    "        num_of_iter = num_of_iter + 1\n",
    "        \n",
    "\n",
    "        if num_of_iter == 20001:\n",
    "            print('The number of iteration: %d' %(num_of_iter - 1))\n",
    "            print('The result: %s' %o_results)"
   ]
  },
  {
   "cell_type": "code",
   "execution_count": null,
   "metadata": {},
   "outputs": [],
   "source": []
  }
 ],
 "metadata": {
  "kernelspec": {
   "display_name": "godsw",
   "language": "python",
   "name": "godsw"
  },
  "language_info": {
   "codemirror_mode": {
    "name": "ipython",
    "version": 3
   },
   "file_extension": ".py",
   "mimetype": "text/x-python",
   "name": "python",
   "nbconvert_exporter": "python",
   "pygments_lexer": "ipython3",
   "version": "3.6.6"
  }
 },
 "nbformat": 4,
 "nbformat_minor": 2
}
