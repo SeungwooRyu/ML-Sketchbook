{
 "cells": [
  {
   "cell_type": "markdown",
   "metadata": {},
   "source": [
    "## Draw a quadratic curve which explains the 4 data points best using Gradient Descent Method"
   ]
  },
  {
   "cell_type": "code",
   "execution_count": 1,
   "metadata": {},
   "outputs": [],
   "source": [
    "import matplotlib.pyplot as plt\n",
    "import numpy as np\n",
    "# from sympy import *\n",
    "# from sympy import Symbol, solve\n",
    "import random"
   ]
  },
  {
   "cell_type": "code",
   "execution_count": 2,
   "metadata": {},
   "outputs": [
    {
     "data": {
      "text/plain": [
       "array([[0., 0.],\n",
       "       [1., 1.],\n",
       "       [1., 2.],\n",
       "       [2., 1.]])"
      ]
     },
     "execution_count": 2,
     "metadata": {},
     "output_type": "execute_result"
    }
   ],
   "source": [
    "data = np.array([[0.0, 0.0], [1.0, 1.0], [1.0, 2.0], [2.0, 1.0]])\n",
    "data"
   ]
  },
  {
   "cell_type": "code",
   "execution_count": 3,
   "metadata": {},
   "outputs": [
    {
     "data": {
      "text/plain": [
       "(-0.5, 3.0)"
      ]
     },
     "execution_count": 3,
     "metadata": {},
     "output_type": "execute_result"
    },
    {
     "data": {
      "image/png": "[encoded data removed]",
      "text/plain": [
       "<Figure size 432x288 with 1 Axes>"
      ]
     },
     "metadata": {},
     "output_type": "display_data"
    }
   ],
   "source": [
    "plt.scatter(data[:,0], data[:,1])\n",
    "plt.xlim(-0.5, 3.0)"
   ]
  },
  {
   "cell_type": "code",
   "execution_count": 4,
   "metadata": {},
   "outputs": [
    {
     "name": "stdout",
     "output_type": "stream",
     "text": [
      "w2: -1.542853195107512, w1: 4.213130741962113, w0: -0.575592316910309\n"
     ]
    },
    {
     "data": {
      "image/png": "[encoded data removed]",
      "text/plain": [
       "<Figure size 432x288 with 1 Axes>"
      ]
     },
     "metadata": {},
     "output_type": "display_data"
    }
   ],
   "source": [
    "eta = 0.01\n",
    "init_w2 = random.uniform(0,1)\n",
    "init_w1 = random.uniform(0,1)\n",
    "init_w0 = random.uniform(0,1)\n",
    "\n",
    "w2_list = []\n",
    "w1_list = []\n",
    "w0_list = []\n",
    "\n",
    "for i in range(0, 500): \n",
    "    for j in range(0, len(data)):\n",
    "        gradient_w2 = (-2)*(data[j,0]**2)*(data[j,1] - (init_w2 * data[j,0]**2 + init_w1 * data[j,0] + init_w0))\n",
    "        gradient_w1 = (-2)*data[j,0]*(data[j,1] - (init_w2 * data[j,0]**2 + init_w1 * data[j,0] + init_w0))\n",
    "        gradient_w0 = (-2)*(data[j,1] - (init_w2 * data[j,0]**2 + init_w1 * data[j,0] + init_w0))\n",
    "                            \n",
    "        w2_list.append(gradient_w2)\n",
    "        w1_list.append(gradient_w1)\n",
    "        w0_list.append(gradient_w0)\n",
    "     \n",
    "        gradient_w2 = sum(w2_list)\n",
    "        gradient_w1 = sum(w1_list)\n",
    "        gradient_w0 = sum(w0_list)\n",
    "        \n",
    "        w2_next = init_w2 - eta*gradient_w2; init_w2 = w2_next\n",
    "        w1_next = init_w1 - eta*gradient_w1; init_w1 = w1_next\n",
    "        w0_next = init_w0 - eta*gradient_w0; init_w0 = w0_next\n",
    "        \n",
    "    if i < 499: \n",
    "        continue\n",
    "        \n",
    "    else:\n",
    "        final_w2 = w2_next\n",
    "        final_w1 = w1_next\n",
    "        final_w0 = w0_next\n",
    "        \n",
    "print('w2: {0}, w1: {1}, w0: {2}'.format(final_w2, final_w1, final_w0))\n",
    "\n",
    "x = np.arange(-0.5, 3.0, 0.01)\n",
    "y = final_w2*(x**2) + final_w1*x + final_w0\n",
    "\n",
    "plt.scatter(data[:,0], data[:,1])\n",
    "plt.xlim(-0.5, 3.0)\n",
    "plt.plot(x, y)\n",
    "plt.show()"
   ]
  },
  {
   "cell_type": "code",
   "execution_count": null,
   "metadata": {},
   "outputs": [],
   "source": []
  }
 ],
 "metadata": {
  "kernelspec": {
   "display_name": "godsw",
   "language": "python",
   "name": "godsw"
  },
  "language_info": {
   "codemirror_mode": {
    "name": "ipython",
    "version": 3
   },
   "file_extension": ".py",
   "mimetype": "text/x-python",
   "name": "python",
   "nbconvert_exporter": "python",
   "pygments_lexer": "ipython3",
   "version": "3.6.6"
  }
 },
 "nbformat": 4,
 "nbformat_minor": 2
}
